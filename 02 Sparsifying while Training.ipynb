{
 "cells": [
  {
   "cell_type": "markdown",
   "id": "004aa36e",
   "metadata": {},
   "source": [
    "# Training a Model with Sparsity in Mind\n",
    "\n",
    "In this document we show how to train a model while using the sparsity flow.\n",
    "\n",
    "Before going into details, let us define the model."
   ]
  },
  {
   "cell_type": "code",
   "execution_count": 1,
   "id": "d91be283",
   "metadata": {},
   "outputs": [],
   "source": [
    "import os\n",
    "\n",
    "import torch\n",
    "from torch import nn\n",
    "from torch.ao import sparsity\n",
    "\n",
    "import matplotlib.pyplot as plt\n",
    "import numpy as np\n",
    "\n",
    "device = torch.device('cpu')"
   ]
  },
  {
   "cell_type": "code",
   "execution_count": 2,
   "id": "bcfdb996",
   "metadata": {},
   "outputs": [
    {
     "name": "stdout",
     "output_type": "stream",
     "text": [
      "Sequential(\n",
      "  (0): Linear(in_features=7, out_features=32, bias=True)\n",
      "  (1): ReLU()\n",
      "  (2): Linear(in_features=32, out_features=256, bias=True)\n",
      "  (3): ReLU()\n",
      "  (4): Linear(in_features=256, out_features=32, bias=True)\n",
      "  (5): ReLU()\n",
      "  (6): Linear(in_features=32, out_features=10, bias=True)\n",
      ")\n"
     ]
    }
   ],
   "source": [
    "in_features = 7\n",
    "num_classes = 10\n",
    "\n",
    "def make_model():\n",
    "    model = nn.Sequential(\n",
    "        nn.Linear(in_features, 32),\n",
    "        nn.ReLU(),\n",
    "        nn.Linear(32, 256),\n",
    "        nn.ReLU(),\n",
    "        nn.Linear(256, 32),\n",
    "        nn.ReLU(),\n",
    "        nn.Linear(32, num_classes)\n",
    "    )\n",
    "    return model\n",
    "\n",
    "model = make_model()\n",
    "print(model)"
   ]
  },
  {
   "cell_type": "markdown",
   "id": "1d3f8288",
   "metadata": {},
   "source": [
    "Given the model above, here are the requirements for its pruning:\n",
    "\n",
    "- `model[0]`:\n",
    "    - `sparsity_level = 0.7`\n",
    "    - `sparse_block_shape = (4, 1)`\n",
    "- `model[2]`:\n",
    "    - `sparsity_level = 0.9`\n",
    "    - `sparse_block_shape = (1, 8)`\n",
    "- `model[4]`:\n",
    "    - `sparsity_level = 0.8`\n",
    "    - `sparse_block_shape = (1, 4)`"
   ]
  },
  {
   "cell_type": "markdown",
   "id": "ebf85f39",
   "metadata": {},
   "source": [
    "## Option 1. Training with Sparsity\n",
    "\n",
    "This option is the simplest, and is very similar to sparsifying a model for inference. The only difference is that the `sparsifier.step()` will be called inside the training loop."
   ]
  },
  {
   "cell_type": "code",
   "execution_count": 3,
   "id": "5e7b82d2",
   "metadata": {},
   "outputs": [
    {
     "name": "stderr",
     "output_type": "stream",
     "text": [
      "/home/zafar/Git/pytorch-dev/pytorch/torch/_tensor.py:565: UserWarning: floor_divide is deprecated, and will be removed in a future version of pytorch. It currently rounds toward 0 (like the 'trunc' function NOT 'floor'). This results in incorrect rounding for negative values.\n",
      "To keep the current behavior, use torch.div(a, b, rounding_mode='trunc'), or for actual floor division, use torch.div(a, b, rounding_mode='floor'). (Triggered internally at  /home/zafar/Git/pytorch-dev/pytorch/aten/src/ATen/native/BinaryOps.cpp:506.)\n",
      "  return torch.floor_divide(self, other)\n"
     ]
    }
   ],
   "source": [
    "# Make model\n",
    "model = make_model()\n",
    "optimizer = torch.optim.Adam(model.parameters())\n",
    "criterion = nn.CrossEntropyLoss()\n",
    "\n",
    "# Make spasity configurations\n",
    "sparse_config = [\n",
    "    {'module': model[0], 'sparsity_level': 0.7, 'sparse_block_shape': (4, 1), 'zeros_per_block': 4},\n",
    "    {'module': model[2], 'sparsity_level': 0.9, 'sparse_block_shape': (1, 8), 'zeros_per_block': 8},\n",
    "    # The following layers will take default parameters\n",
    "    model[4],\n",
    "]\n",
    "\n",
    "sparse_defaults = {\n",
    "    'sparsity_level': 0.8,\n",
    "    'sparse_block_shape': (1, 4),\n",
    "    'zeros_per_block': 4\n",
    "}\n",
    "\n",
    "# Create a sparsifier and attach a model to it\n",
    "sparsifier = sparsity.WeightNormSparsifier(**sparse_defaults)\n",
    "sparsifier.prepare(model, config=sparse_config)\n",
    "sparsifier.step()  # This is optional"
   ]
  },
  {
   "cell_type": "markdown",
   "id": "1faba587",
   "metadata": {},
   "source": [
    "Notice in the configuration above that we run the `sparsifier.step()` before the training even starts. This is optional, and the only reason you would want to call it before training is if you would like to make sure that the very first iteration of the training loop will receive the sparse model.\n",
    "\n",
    "\n",
    "*Note: as we are not focusing on accuracy, the example below is just a random input training*"
   ]
  },
  {
   "cell_type": "code",
   "execution_count": 4,
   "id": "9ff59f23",
   "metadata": {
    "scrolled": false
   },
   "outputs": [
    {
     "name": "stdout",
     "output_type": "stream",
     "text": [
      "1/5:\t- Loss: 2.33\n",
      "\t- Sparsity per layer: 69.64%, 90.04%, 79.98%, 0.00%\n",
      "2/5:\t- Loss: 2.31\n",
      "\t- Sparsity per layer: 69.64%, 90.04%, 79.98%, 0.00%\n",
      "3/5:\t- Loss: 2.30\n",
      "\t- Sparsity per layer: 69.64%, 90.04%, 79.98%, 0.00%\n",
      "4/5:\t- Loss: 2.30\n",
      "\t- Sparsity per layer: 69.64%, 90.04%, 79.98%, 0.00%\n",
      "5/5:\t- Loss: 2.30\n",
      "\t- Sparsity per layer: 69.64%, 90.04%, 79.98%, 0.00%\n"
     ]
    }
   ],
   "source": [
    "EPOCHS = 5\n",
    "batch_size = 100\n",
    "\n",
    "for epoch in range(EPOCHS):\n",
    "    x = torch.randn(batch_size, in_features)\n",
    "    y = torch.randint(0, num_classes, size=(batch_size,))\n",
    "\n",
    "    optimizer.zero_grad()\n",
    "    y_hat = model(x)\n",
    "    loss = criterion(y_hat, y)\n",
    "    loss.backward()\n",
    "    optimizer.step()\n",
    "    sparsifier.step()  # This sparsifies the weights at every iteration\n",
    "    \n",
    "    # print statistics\n",
    "    with torch.no_grad():\n",
    "        sparsity_levels = [(t.weight == 0).float().mean() for n, t in model.named_modules() if isinstance(t, nn.Linear)]\n",
    "        sparsity_levels = ', '.join(list(map(lambda x: f'{x:.2%}', sparsity_levels)))\n",
    "        print(f'{epoch+1}/{EPOCHS}:', end='')\n",
    "        print(f'\\t- Loss: {loss.item():.2f}')\n",
    "        print(f'\\t- Sparsity per layer: {sparsity_levels}')"
   ]
  },
  {
   "cell_type": "code",
   "execution_count": 5,
   "id": "08388527",
   "metadata": {},
   "outputs": [],
   "source": [
    "# Take a step\n",
    "sparsifier.squash_mask()"
   ]
  },
  {
   "cell_type": "code",
   "execution_count": 6,
   "id": "bb61584a",
   "metadata": {},
   "outputs": [
    {
     "name": "stdout",
     "output_type": "stream",
     "text": [
      "Sparsity per layer: 69.64%, 90.04%, 79.98%, 0.00%\n"
     ]
    }
   ],
   "source": [
    "# Check sparsity after pruning\n",
    "with torch.no_grad():\n",
    "    sparsity_levels = [(t.weight == 0).float().mean() for n, t in model.named_modules() if isinstance(t, nn.Linear)]\n",
    "    sparsity_levels = ', '.join(list(map(lambda x: f'{x:.2%}', sparsity_levels)))\n",
    "    print(f'Sparsity per layer: {sparsity_levels}')"
   ]
  },
  {
   "cell_type": "markdown",
   "id": "d705dda3",
   "metadata": {},
   "source": [
    "## Option 2. Train the Model while Gradually Increasing Sparsity\n",
    "\n",
    "Another option that is supported is sparsity level scheduling. The problem with the sparse training is that we zero out a lot of elements in the very beginning of the training. However, most of the time, we would like to gradually increase the level of sparsity as the training progresses. To do that you might want to use `sparsity.scheduler.LambdaSL`, which changes the target level of sparsity by  a factor defined by some lambda function.\n",
    "\n",
    "For example, let us define the lambda to be a stepping function, which scales the target level of sparsity by 0x at epoch 0, 0.5x at epoch 1, 0.75x at epoch 2, and 1.0x thereafter."
   ]
  },
  {
   "cell_type": "code",
   "execution_count": 7,
   "id": "59e36e6e",
   "metadata": {},
   "outputs": [
    {
     "data": {
      "text/plain": [
       "Text(0.5, 1.0, 'Sparsity level Scheduling')"
      ]
     },
     "execution_count": 7,
     "metadata": {},
     "output_type": "execute_result"
    },
    {
     "data": {
      "image/png": "[encoded data removed]",
      "text/plain": [
       "<Figure size 640x480 with 1 Axes>"
      ]
     },
     "metadata": {},
     "output_type": "display_data"
    }
   ],
   "source": [
    "import numpy as np\n",
    "\n",
    "def stepping_lambda(epoch):\n",
    "    steps = [0.0, 0.5, 0.75, 1.0]\n",
    "    if epoch >= len(steps):\n",
    "        return 1.0\n",
    "    return steps[epoch]\n",
    "\n",
    "epochs = np.arange(10)\n",
    "sl = list(map(stepping_lambda, epochs))\n",
    "\n",
    "plt.step(epochs, sl, label='Step Lambda', where='post')\n",
    "\n",
    "plt.legend()\n",
    "plt.xlabel('Epochs')\n",
    "plt.ylabel('Sparsity Level')\n",
    "plt.title(f'Sparsity level Scheduling')"
   ]
  },
  {
   "cell_type": "markdown",
   "id": "0b941e1e",
   "metadata": {},
   "source": [
    "Now that the function is done, we can attach an instantiated sparsifier and this function to a `LambdaSL` scheduler using the syntax:\n",
    "\n",
    "```\n",
    "scheduler = LambdaSL(sparsifier_instance, lambda_fn)\n",
    "```"
   ]
  },
  {
   "cell_type": "code",
   "execution_count": 8,
   "id": "3540f103",
   "metadata": {},
   "outputs": [],
   "source": [
    "model = make_model()\n",
    "optimizer = torch.optim.Adam(model.parameters())\n",
    "criterion = nn.CrossEntropyLoss()\n",
    "\n",
    "sparse_config = [\n",
    "    {'module': model[0], 'sparsity_level': 0.7, 'sparse_block_shape': (4, 1), 'zeros_per_block': 4},\n",
    "    {'module': model[2], 'sparsity_level': 0.9, 'sparse_block_shape': (1, 8), 'zeros_per_block': 8},\n",
    "    # The following layers will take default parameters\n",
    "    model[4],\n",
    "]\n",
    "\n",
    "sparse_defaults = {\n",
    "    'sparsity_level': 0.8,\n",
    "    'sparse_block_shape': (1, 4),\n",
    "    'zeros_per_block': 4\n",
    "}\n",
    "\n",
    "sparsifier = sparsity.WeightNormSparsifier(**sparse_defaults)\n",
    "sparsifier.prepare(model, config=sparse_config)\n",
    "scheduler = sparsity.LambdaSL(sparsifier, stepping_lambda)  # Scheduler attaches to the sparsifier"
   ]
  },
  {
   "cell_type": "code",
   "execution_count": 9,
   "id": "2c3b2ff4",
   "metadata": {},
   "outputs": [
    {
     "name": "stdout",
     "output_type": "stream",
     "text": [
      "1/5:\t- Loss: 2.31\n",
      "\t- Sparsity per layer: 0.00%, 0.00%, 0.00%, 0.00%\n",
      "2/5:\t- Loss: 2.29\n",
      "\t- Sparsity per layer: 35.71%, 45.02%, 39.99%, 0.00%\n",
      "3/5:\t- Loss: 2.32\n",
      "\t- Sparsity per layer: 51.79%, 67.48%, 60.01%, 0.00%\n",
      "4/5:\t- Loss: 2.32\n",
      "\t- Sparsity per layer: 69.64%, 90.04%, 79.98%, 0.00%\n",
      "5/5:\t- Loss: 2.30\n",
      "\t- Sparsity per layer: 69.64%, 90.04%, 79.98%, 0.00%\n"
     ]
    }
   ],
   "source": [
    "EPOCHS = 5\n",
    "batch_size = 100\n",
    "\n",
    "for epoch in range(EPOCHS):\n",
    "    x = torch.randn(batch_size, in_features)\n",
    "    y = torch.randint(0, num_classes, size=(batch_size,))\n",
    "\n",
    "    optimizer.zero_grad()\n",
    "    y_hat = model(x)\n",
    "    loss = criterion(y_hat, y)\n",
    "    loss.backward()\n",
    "    optimizer.step()\n",
    "    sparsifier.step()  # This sparsifies the weights at every iteration\n",
    "    scheduler.step()  # This changes the level of sparsity at every iteration\n",
    "    \n",
    "    # print statistics\n",
    "    with torch.no_grad():\n",
    "        sparsity_levels = [(t.weight == 0).float().mean() for n, t in model.named_modules() if isinstance(t, nn.Linear)]\n",
    "        sparsity_levels = ', '.join(list(map(lambda x: f'{x:.2%}', sparsity_levels)))\n",
    "        print(f'{epoch+1}/{EPOCHS}:', end='')\n",
    "        print(f'\\t- Loss: {loss.item():.2f}')\n",
    "        print(f'\\t- Sparsity per layer: {sparsity_levels}')"
   ]
  },
  {
   "cell_type": "markdown",
   "id": "08cd8909",
   "metadata": {},
   "source": [
    "Note that the level of sparsity is slowly increasing, based on the logic that we described in the lambda function.\n",
    "\n",
    "Also, **don't forget to squash the masks**"
   ]
  },
  {
   "cell_type": "code",
   "execution_count": 10,
   "id": "34d53c94",
   "metadata": {},
   "outputs": [
    {
     "name": "stdout",
     "output_type": "stream",
     "text": [
      "Sparsity per layer: 69.64%, 90.04%, 79.98%, 0.00%\n"
     ]
    }
   ],
   "source": [
    "sparsifier.squash_mask()\n",
    "# Check sparsity after pruning\n",
    "with torch.no_grad():\n",
    "    sparsity_levels = [(t.weight == 0).float().mean() for n, t in model.named_modules() if isinstance(t, nn.Linear)]\n",
    "    sparsity_levels = ', '.join(list(map(lambda x: f'{x:.2%}', sparsity_levels)))\n",
    "    print(f'Sparsity per layer: {sparsity_levels}')"
   ]
  },
  {
   "cell_type": "code",
   "execution_count": 11,
   "id": "af4e4fd6",
   "metadata": {},
   "outputs": [
    {
     "data": {
      "text/plain": [
       "Sequential(\n",
       "  (0): Linear(in_features=7, out_features=32, bias=True)\n",
       "  (1): ReLU()\n",
       "  (2): Linear(in_features=32, out_features=256, bias=True)\n",
       "  (3): ReLU()\n",
       "  (4): Linear(in_features=256, out_features=32, bias=True)\n",
       "  (5): ReLU()\n",
       "  (6): Linear(in_features=32, out_features=10, bias=True)\n",
       ")"
      ]
     },
     "execution_count": 11,
     "metadata": {},
     "output_type": "execute_result"
    }
   ],
   "source": [
    "model"
   ]
  }
 ],
 "metadata": {
  "kernelspec": {
   "display_name": "Python 3",
   "language": "python",
   "name": "python3"
  },
  "language_info": {
   "codemirror_mode": {
    "name": "ipython",
    "version": 3
   },
   "file_extension": ".py",
   "mimetype": "text/x-python",
   "name": "python",
   "nbconvert_exporter": "python",
   "pygments_lexer": "ipython3",
   "version": "3.8.8"
  }
 },
 "nbformat": 4,
 "nbformat_minor": 5
}
