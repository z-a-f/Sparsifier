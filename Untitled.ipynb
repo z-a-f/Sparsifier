{
 "cells": [
  {
   "cell_type": "code",
   "execution_count": 1,
   "id": "a73f6436",
   "metadata": {},
   "outputs": [],
   "source": [
    "%load_ext autoreload\n",
    "%autoreload 2"
   ]
  },
  {
   "cell_type": "code",
   "execution_count": 2,
   "id": "f70a06a7",
   "metadata": {},
   "outputs": [
    {
     "name": "stdout",
     "output_type": "stream",
     "text": [
      "ParametrizedLinear(in_features=3, out_features=4, bias=True)\n",
      "ParametrizedLinear(in_features=3, out_features=4, bias=True)\n"
     ]
    }
   ],
   "source": [
    "import torch\n",
    "from torch import nn\n",
    "from torch.nn.utils import parametrize\n",
    "\n",
    "class Param(nn.Module):\n",
    "    def forward(self, x):\n",
    "        return x + 1.0\n",
    "\n",
    "model = nn.Sequential(\n",
    "    nn.Linear(3, 4),\n",
    "    nn.Linear(3, 4),\n",
    ")\n",
    "for child in model.children():\n",
    "    parametrize.register_parametrization(child, 'weight', Param())"
   ]
  },
  {
   "cell_type": "code",
   "execution_count": 3,
   "id": "cb0b748d",
   "metadata": {},
   "outputs": [
    {
     "data": {
      "text/plain": [
       "Sequential(\n",
       "  (0): ParametrizedLinear(\n",
       "    in_features=3, out_features=4, bias=True\n",
       "    (parametrizations): ModuleDict(\n",
       "      (weight): ParametrizationList(\n",
       "        (0): Param()\n",
       "      )\n",
       "    )\n",
       "  )\n",
       "  (1): ParametrizedLinear(\n",
       "    in_features=3, out_features=4, bias=True\n",
       "    (parametrizations): ModuleDict(\n",
       "      (weight): ParametrizationList(\n",
       "        (0): Param()\n",
       "      )\n",
       "    )\n",
       "  )\n",
       ")"
      ]
     },
     "execution_count": 3,
     "metadata": {},
     "output_type": "execute_result"
    }
   ],
   "source": [
    "model"
   ]
  },
  {
   "cell_type": "code",
   "execution_count": 6,
   "id": "ccbdb7eb",
   "metadata": {},
   "outputs": [
    {
     "data": {
      "text/plain": [
       "'---'"
      ]
     },
     "execution_count": 6,
     "metadata": {},
     "output_type": "execute_result"
    }
   ],
   "source": [
    "offset = '-'\n",
    "f'{offset*3}'"
   ]
  }
 ],
 "metadata": {
  "kernelspec": {
   "display_name": "Python 3",
   "language": "python",
   "name": "python3"
  },
  "language_info": {
   "codemirror_mode": {
    "name": "ipython",
    "version": 3
   },
   "file_extension": ".py",
   "mimetype": "text/x-python",
   "name": "python",
   "nbconvert_exporter": "python",
   "pygments_lexer": "ipython3",
   "version": "3.8.8"
  }
 },
 "nbformat": 4,
 "nbformat_minor": 5
}
